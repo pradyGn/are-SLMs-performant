{
 "cells": [
  {
   "cell_type": "code",
   "execution_count": null,
   "metadata": {},
   "outputs": [],
   "source": [
    "import torch\n",
    "from transformers import (\n",
    "    AutoModelForCausalLM,\n",
    "    AutoTokenizer,\n",
    "    pipeline\n",
    ")\n",
    "from peft import PeftModel\n",
    "from datasets import load_dataset\n",
    "from tqdm import tqdm\n",
    "import pandas as pd"
   ]
  },
  {
   "cell_type": "code",
   "execution_count": null,
   "metadata": {},
   "outputs": [],
   "source": [
    "import os\n",
    "\n",
    "os.environ['HF_TOKEN'] = \"\""
   ]
  },
  {
   "cell_type": "code",
   "execution_count": null,
   "metadata": {},
   "outputs": [],
   "source": [
    "new_model = \"path-to-fine-tuned-model-dir\"\n",
    "# model_name = \"meta-llama/Llama-3.2-1B\"\n",
    "model_name = \"jinaai/ReaderLM-v2\"\n",
    "mode_name_wo_company = model_name.split(\"/\")[1]\n",
    "device_map = \"auto\""
   ]
  },
  {
   "cell_type": "code",
   "execution_count": null,
   "metadata": {},
   "outputs": [],
   "source": [
    "base_model = AutoModelForCausalLM.from_pretrained(\n",
    "    model_name,\n",
    "    low_cpu_mem_usage=True,\n",
    "    return_dict=True,\n",
    "    torch_dtype=torch.float16,\n",
    "    device_map=device_map,\n",
    ")\n",
    "model = PeftModel.from_pretrained(\n",
    "    base_model,\n",
    "    new_model,\n",
    ")\n",
    "model = model.merge_and_unload()\n",
    "model = model.to(dtype=torch.float32)\n",
    "\n",
    "# Reload tokenizer to save it\n",
    "tokenizer = AutoTokenizer.from_pretrained(model_name, trust_remote_code=True, padding_side = 'left')\n",
    "tokenizer.pad_token = tokenizer.eos_token"
   ]
  },
  {
   "cell_type": "code",
   "execution_count": null,
   "metadata": {},
   "outputs": [],
   "source": [
    "html_extraction_dataset_name = \"Jiraya/html_job_extraction_dataset\"\n",
    "html_extraction_dataset = load_dataset(html_extraction_dataset_name)\n",
    "html_extraction_dataset"
   ]
  },
  {
   "cell_type": "code",
   "execution_count": null,
   "metadata": {},
   "outputs": [],
   "source": [
    "prompt = \"\"\"I am providing you with an HTML. I want you to extract Job Title, Job Location, Job ID and Job Link in a JSON format. I want you to respond only with a JSON, no descriptive text. There are exactly 10 Job Title, Job Location, Job ID and Job Link that you have to extract from the provided HTML.\n",
    "Here is the expected JSON structure:\n",
    "[\n",
    "    {{\n",
    "        'Job Title':\n",
    "        'Job Location':\n",
    "        'Job ID':\n",
    "        'Job Link':\n",
    "    }},\n",
    "    {{\n",
    "        'Job Title':\n",
    "        'Job Location':\n",
    "        'Job ID':\n",
    "        'Job Link':\n",
    "    }},\n",
    "...\n",
    "]\n",
    "\n",
    "Again, only respond with a JSON and no desciptive text. If you do not spot job links in the HTML provided then just return an empty JSON.\n",
    "Here is the HTML I want to extract Job Title, Job Location, Job ID and Job Link from,\n",
    "\n",
    "{}\n",
    "\"\"\""
   ]
  },
  {
   "cell_type": "code",
   "execution_count": null,
   "metadata": {},
   "outputs": [],
   "source": [
    "val_dataset = html_extraction_dataset['unseen_test'].map(lambda ex: {\n",
    "    'formatted': prompt.format(\n",
    "        ex[\"input_html\"]\n",
    "    )\n",
    "})\n",
    "val_dataset"
   ]
  },
  {
   "cell_type": "code",
   "execution_count": null,
   "metadata": {},
   "outputs": [],
   "source": [
    "generator = pipeline(\"text-generation\", model=model, tokenizer=tokenizer)\n",
    "pred_output = list(pd.read_parquet(f\"../scratch/{mode_name_wo_company}_unseen_output_v2.parquet\")[\"model_output\"])[:46+105]\n",
    "\n",
    "for i in tqdm(range(len(pred_output), len(val_dataset['formatted'])), desc=\"Extracting Information: \"):  # You can loop over the full dataset\n",
    "    try:\n",
    "        input_text = val_dataset['formatted'][i]\n",
    "        output = generator(input_text, max_new_tokens=2000, do_sample=True)[0][\"generated_text\"]\n",
    "        pred_output.append(output)\n",
    "    except:\n",
    "        pred_output.append(None)\n",
    "        print(i)\n",
    "    if i%100 == 0:\n",
    "        pd.DataFrame({\"model_output\":pred_output, \"html\":val_dataset[\"input_html\"][:i+1], \"openai_extracted\":val_dataset[\"extracted_output\"][:i+1]}).to_parquet(f\"../scratch/{mode_name_wo_company}_unseen_output_v3.parquet\")"
   ]
  },
  {
   "cell_type": "code",
   "execution_count": null,
   "metadata": {},
   "outputs": [],
   "source": []
  },
  {
   "cell_type": "code",
   "execution_count": null,
   "metadata": {},
   "outputs": [],
   "source": []
  }
 ],
 "metadata": {
  "kernelspec": {
   "display_name": "venv",
   "language": "python",
   "name": "python3"
  },
  "language_info": {
   "codemirror_mode": {
    "name": "ipython",
    "version": 3
   },
   "file_extension": ".py",
   "mimetype": "text/x-python",
   "name": "python",
   "nbconvert_exporter": "python",
   "pygments_lexer": "ipython3",
   "version": "3.10.12"
  }
 },
 "nbformat": 4,
 "nbformat_minor": 2
}
