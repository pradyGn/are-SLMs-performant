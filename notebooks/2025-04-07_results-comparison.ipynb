{
  "cells": [
    {
      "cell_type": "code",
      "execution_count": 34,
      "metadata": {
        "id": "oHTPnLqtt-JY"
      },
      "outputs": [],
      "source": [
        "import pandas as pd\n",
        "import json"
      ]
    },
    {
      "cell_type": "markdown",
      "metadata": {},
      "source": [
        "## Helper Functions"
      ]
    },
    {
      "cell_type": "code",
      "execution_count": 35,
      "metadata": {
        "id": "piEgWL-X_heH"
      },
      "outputs": [],
      "source": [
        "def check_json(x):\n",
        "  try:\n",
        "    json.loads(x)\n",
        "    return True\n",
        "  except:\n",
        "    return False"
      ]
    },
    {
      "cell_type": "code",
      "execution_count": 36,
      "metadata": {},
      "outputs": [],
      "source": [
        "def check_json_adv(x):\n",
        "    s_pos = None\n",
        "    for i in range(len(x)):\n",
        "        if x[i] == \"[\":\n",
        "            s_pos = i\n",
        "    e_pos = None\n",
        "    for i in range(len(x)):\n",
        "        if x[i] == \"]\":\n",
        "            e_pos = i\n",
        "    if s_pos and e_pos and s_pos < e_pos:\n",
        "        try:\n",
        "            json.loads(x[s_pos:e_pos+1])\n",
        "            return True\n",
        "        except:\n",
        "            return False\n",
        "    return False"
      ]
    },
    {
      "cell_type": "code",
      "execution_count": 37,
      "metadata": {},
      "outputs": [],
      "source": [
        "def return_adv_json(x):\n",
        "    s_pos = None\n",
        "    for i in range(len(x)):\n",
        "        if x[i] == \"[\":\n",
        "            s_pos = i\n",
        "    e_pos = None\n",
        "    for i in range(len(x)):\n",
        "        if x[i] == \"]\":\n",
        "            e_pos = i\n",
        "    if s_pos and e_pos and s_pos < e_pos:\n",
        "        try:\n",
        "            json.loads(x[s_pos:e_pos+1])\n",
        "            return x[s_pos:e_pos+1]\n",
        "        except:\n",
        "            return \"[]\"\n",
        "    return \"[]\""
      ]
    },
    {
      "cell_type": "code",
      "execution_count": 38,
      "metadata": {
        "id": "lJusfD_1wrLf"
      },
      "outputs": [],
      "source": [
        "# Returns the Exhaustive Count from a language model's output. Checkout subsequest cells to understand usage.\n",
        "\n",
        "def get_exhaustive_count(json_extracted_llama:pd.DataFrame, model_output_col_name:str, json_extracted_openai:pd.DataFrame, openai_col_name:str):\n",
        "  links_openai = {}\n",
        "  for _, r in json_extracted_openai.iterrows():\n",
        "    data_points = json.loads(r[openai_col_name])\n",
        "    for dp in data_points:\n",
        "      if \"Job Link\" in dp:\n",
        "        links_openai[dp[\"Job Link\"]] = None\n",
        "  exhaustive_count = 0\n",
        "  for _, r in json_extracted_llama.iterrows():\n",
        "    json_list = json.loads(r[model_output_col_name])\n",
        "    for json_dp in json_list:\n",
        "      if \"Job Link\" in json_dp and json_dp[\"Job Link\"] in links_openai:\n",
        "        exhaustive_count += 1\n",
        "  return exhaustive_count"
      ]
    },
    {
      "cell_type": "code",
      "execution_count": 40,
      "metadata": {
        "id": "J5w-ERhXuyuQ"
      },
      "outputs": [],
      "source": [
        "# Checkout subsequest cells to understand usage.\n",
        "def get_links_in_4o(json_extracted_llama:pd.DataFrame, json_extracted_openai:pd.DataFrame, model_output_col_name:str, openai_col_name:str):\n",
        "  links_llama = {}\n",
        "  for _, r in json_extracted_llama.iterrows():\n",
        "    data_points = json.loads(r[model_output_col_name])\n",
        "    for dp in data_points:\n",
        "      if \"Job Link\" in dp:\n",
        "        links_llama[dp[\"Job Link\"]] = None\n",
        "  links_openai = {}\n",
        "  for _, r in json_extracted_openai.iterrows():\n",
        "    data_points = json.loads(r[openai_col_name])\n",
        "    for dp in data_points:\n",
        "      if \"Job Link\" in dp:\n",
        "        links_openai[dp[\"Job Link\"]] = None\n",
        "  return (\n",
        "      len([l for l in links_llama if l not in links_openai]),\n",
        "      len([l for l in links_llama if l in links_openai]), # Returns the Precise Count from a language model's output.\n",
        "      len([l for l in links_openai]) # Returns the Precise Count for GPT-4o\n",
        "  )"
      ]
    },
    {
      "cell_type": "code",
      "execution_count": null,
      "metadata": {},
      "outputs": [],
      "source": []
    },
    {
      "cell_type": "code",
      "execution_count": null,
      "metadata": {},
      "outputs": [],
      "source": []
    },
    {
      "cell_type": "markdown",
      "metadata": {},
      "source": [
        "## Fine Tuned Llama 3.2 1B"
      ]
    },
    {
      "cell_type": "code",
      "execution_count": 41,
      "metadata": {
        "colab": {
          "base_uri": "https://localhost:8080/",
          "height": 363
        },
        "id": "iPjC_AAY8JBT",
        "outputId": "14bda869-69af-43ff-ed72-00bc5d7b2c62"
      },
      "outputs": [
        {
          "data": {
            "text/html": [
              "<div>\n",
              "<style scoped>\n",
              "    .dataframe tbody tr th:only-of-type {\n",
              "        vertical-align: middle;\n",
              "    }\n",
              "\n",
              "    .dataframe tbody tr th {\n",
              "        vertical-align: top;\n",
              "    }\n",
              "\n",
              "    .dataframe thead th {\n",
              "        text-align: right;\n",
              "    }\n",
              "</style>\n",
              "<table border=\"1\" class=\"dataframe\">\n",
              "  <thead>\n",
              "    <tr style=\"text-align: right;\">\n",
              "      <th></th>\n",
              "      <th>model_output</th>\n",
              "      <th>html</th>\n",
              "      <th>openai_extracted</th>\n",
              "    </tr>\n",
              "  </thead>\n",
              "  <tbody>\n",
              "    <tr>\n",
              "      <th>0</th>\n",
              "      <td>I am providing you with an HTML. I want you to...</td>\n",
              "      <td>ifgzpr-0 ebeCrQ\"&gt;Learn more&lt;/button&gt;&lt;/div&gt;&lt;/a&gt;...</td>\n",
              "      <td>[{\"Job Title\":\"Data Engineer\",\"Job Location\":\"...</td>\n",
              "    </tr>\n",
              "    <tr>\n",
              "      <th>1</th>\n",
              "      <td>I am providing you with an HTML. I want you to...</td>\n",
              "      <td>eey\"&gt;Fraud and Risk Analyst, Identity&lt;/div&gt;&lt;di...</td>\n",
              "      <td>[{\"Job Title\":\"Fraud and Risk Analyst, Identit...</td>\n",
              "    </tr>\n",
              "    <tr>\n",
              "      <th>2</th>\n",
              "      <td>I am providing you with an HTML. I want you to...</td>\n",
              "      <td>StyledButton-sc-ifgzpr-0 ebeCrQ\"&gt;Learn more&lt;/b...</td>\n",
              "      <td>[{\"Job Title\":\"Senior iOS Engineer\",\"Job Locat...</td>\n",
              "    </tr>\n",
              "    <tr>\n",
              "      <th>3</th>\n",
              "      <td>I am providing you with an HTML. I want you to...</td>\n",
              "      <td>PageRow__Subtitle-sc-v4dlgb-4 cfQbFR\"&gt;New York...</td>\n",
              "      <td>[{\"Job Title\":\"Software Engineer, Matching\",\"J...</td>\n",
              "    </tr>\n",
              "    <tr>\n",
              "      <th>4</th>\n",
              "      <td>I am providing you with an HTML. I want you to...</td>\n",
              "      <td>class=\"JobPageRow__LeftItem-sc-v4dlgb-1 izfJqe...</td>\n",
              "      <td>[{\"Job Title\":\"Senior Product Manager, Airport...</td>\n",
              "    </tr>\n",
              "    <tr>\n",
              "      <th>5</th>\n",
              "      <td>I am providing you with an HTML. I want you to...</td>\n",
              "      <td>\"&gt;Data Scientist, Decisions - AdTech&lt;/div&gt;&lt;div...</td>\n",
              "      <td>[{\"Job Title\":\"Data Scientist, Decisions - AdT...</td>\n",
              "    </tr>\n",
              "    <tr>\n",
              "      <th>6</th>\n",
              "      <td>I am providing you with an HTML. I want you to...</td>\n",
              "      <td>geRow__RightItem-sc-v4dlgb-5 czphV\"&gt;&lt;button ta...</td>\n",
              "      <td>[{\"Job Title\":\"Software Engineer Intern, Mobil...</td>\n",
              "    </tr>\n",
              "    <tr>\n",
              "      <th>7</th>\n",
              "      <td>I am providing you with an HTML. I want you to...</td>\n",
              "      <td>&lt;!DOCTYPE html&gt;&lt;html lang=\"en\"&gt;&lt;head&gt;&lt;meta cha...</td>\n",
              "      <td>[]</td>\n",
              "    </tr>\n",
              "    <tr>\n",
              "      <th>8</th>\n",
              "      <td>I am providing you with an HTML. I want you to...</td>\n",
              "      <td>Management&lt;/div&gt;&lt;/div&gt;&lt;/div&gt;&lt;div class=\"JobPag...</td>\n",
              "      <td>[{\"Job Title\":\"Marketing Operations Manager\",\"...</td>\n",
              "    </tr>\n",
              "    <tr>\n",
              "      <th>9</th>\n",
              "      <td>I am providing you with an HTML. I want you to...</td>\n",
              "      <td>, San Francisco Office - Legal&lt;/div&gt;&lt;/div&gt;&lt;/di...</td>\n",
              "      <td>[{\"Job Title\":\"Senior Specialist, Regulatory C...</td>\n",
              "    </tr>\n",
              "  </tbody>\n",
              "</table>\n",
              "</div>"
            ],
            "text/plain": [
              "                                        model_output  \\\n",
              "0  I am providing you with an HTML. I want you to...   \n",
              "1  I am providing you with an HTML. I want you to...   \n",
              "2  I am providing you with an HTML. I want you to...   \n",
              "3  I am providing you with an HTML. I want you to...   \n",
              "4  I am providing you with an HTML. I want you to...   \n",
              "5  I am providing you with an HTML. I want you to...   \n",
              "6  I am providing you with an HTML. I want you to...   \n",
              "7  I am providing you with an HTML. I want you to...   \n",
              "8  I am providing you with an HTML. I want you to...   \n",
              "9  I am providing you with an HTML. I want you to...   \n",
              "\n",
              "                                                html  \\\n",
              "0  ifgzpr-0 ebeCrQ\">Learn more</button></div></a>...   \n",
              "1  eey\">Fraud and Risk Analyst, Identity</div><di...   \n",
              "2  StyledButton-sc-ifgzpr-0 ebeCrQ\">Learn more</b...   \n",
              "3  PageRow__Subtitle-sc-v4dlgb-4 cfQbFR\">New York...   \n",
              "4  class=\"JobPageRow__LeftItem-sc-v4dlgb-1 izfJqe...   \n",
              "5  \">Data Scientist, Decisions - AdTech</div><div...   \n",
              "6  geRow__RightItem-sc-v4dlgb-5 czphV\"><button ta...   \n",
              "7  <!DOCTYPE html><html lang=\"en\"><head><meta cha...   \n",
              "8  Management</div></div></div><div class=\"JobPag...   \n",
              "9  , San Francisco Office - Legal</div></div></di...   \n",
              "\n",
              "                                    openai_extracted  \n",
              "0  [{\"Job Title\":\"Data Engineer\",\"Job Location\":\"...  \n",
              "1  [{\"Job Title\":\"Fraud and Risk Analyst, Identit...  \n",
              "2  [{\"Job Title\":\"Senior iOS Engineer\",\"Job Locat...  \n",
              "3  [{\"Job Title\":\"Software Engineer, Matching\",\"J...  \n",
              "4  [{\"Job Title\":\"Senior Product Manager, Airport...  \n",
              "5  [{\"Job Title\":\"Data Scientist, Decisions - AdT...  \n",
              "6  [{\"Job Title\":\"Software Engineer Intern, Mobil...  \n",
              "7                                                 []  \n",
              "8  [{\"Job Title\":\"Marketing Operations Manager\",\"...  \n",
              "9  [{\"Job Title\":\"Senior Specialist, Regulatory C...  "
            ]
          },
          "execution_count": 41,
          "metadata": {},
          "output_type": "execute_result"
        }
      ],
      "source": [
        "extracted_data_llama = pd.read_parquet(\"../results/Llama-3.2-1B_unseen_test_dataset_output.parquet\")\n",
        "extracted_data_llama.head(10)"
      ]
    },
    {
      "cell_type": "code",
      "execution_count": 52,
      "metadata": {},
      "outputs": [],
      "source": [
        "ex_links_in_4o = get_exhaustive_count(extracted_data_llama, \"openai_extracted\", extracted_data_llama, \"openai_extracted\")"
      ]
    },
    {
      "cell_type": "code",
      "execution_count": 45,
      "metadata": {
        "colab": {
          "base_uri": "https://localhost:8080/",
          "height": 206
        },
        "id": "f69t9XEu9pnx",
        "outputId": "b101659b-102d-4ddd-da97-15092878bb1a"
      },
      "outputs": [
        {
          "data": {
            "text/html": [
              "<div>\n",
              "<style scoped>\n",
              "    .dataframe tbody tr th:only-of-type {\n",
              "        vertical-align: middle;\n",
              "    }\n",
              "\n",
              "    .dataframe tbody tr th {\n",
              "        vertical-align: top;\n",
              "    }\n",
              "\n",
              "    .dataframe thead th {\n",
              "        text-align: right;\n",
              "    }\n",
              "</style>\n",
              "<table border=\"1\" class=\"dataframe\">\n",
              "  <thead>\n",
              "    <tr style=\"text-align: right;\">\n",
              "      <th></th>\n",
              "      <th>openai_extracted</th>\n",
              "      <th>model_response</th>\n",
              "    </tr>\n",
              "  </thead>\n",
              "  <tbody>\n",
              "    <tr>\n",
              "      <th>0</th>\n",
              "      <td>[{\"Job Title\":\"Data Engineer\",\"Job Location\":\"...</td>\n",
              "      <td>\\n[]]\"&gt;### Instruction:\\nI am providing you wi...</td>\n",
              "    </tr>\n",
              "    <tr>\n",
              "      <th>1</th>\n",
              "      <td>[{\"Job Title\":\"Fraud and Risk Analyst, Identit...</td>\n",
              "      <td>\\n[]]</td>\n",
              "    </tr>\n",
              "    <tr>\n",
              "      <th>2</th>\n",
              "      <td>[{\"Job Title\":\"Senior iOS Engineer\",\"Job Locat...</td>\n",
              "      <td>\\n[]]\"&gt;1&lt;/button&gt;&lt;/div&gt;&lt;div class=\"JobPageRow_...</td>\n",
              "    </tr>\n",
              "    <tr>\n",
              "      <th>3</th>\n",
              "      <td>[{\"Job Title\":\"Software Engineer, Matching\",\"J...</td>\n",
              "      <td>\\n[]]\"&gt;Software Engineer, Data Platform Comput...</td>\n",
              "    </tr>\n",
              "    <tr>\n",
              "      <th>4</th>\n",
              "      <td>[{\"Job Title\":\"Senior Product Manager, Airport...</td>\n",
              "      <td>\\n[]]\"&gt;[{\"Job Title\":\"Senior Product Manager, ...</td>\n",
              "    </tr>\n",
              "  </tbody>\n",
              "</table>\n",
              "</div>"
            ],
            "text/plain": [
              "                                    openai_extracted  \\\n",
              "0  [{\"Job Title\":\"Data Engineer\",\"Job Location\":\"...   \n",
              "1  [{\"Job Title\":\"Fraud and Risk Analyst, Identit...   \n",
              "2  [{\"Job Title\":\"Senior iOS Engineer\",\"Job Locat...   \n",
              "3  [{\"Job Title\":\"Software Engineer, Matching\",\"J...   \n",
              "4  [{\"Job Title\":\"Senior Product Manager, Airport...   \n",
              "\n",
              "                                      model_response  \n",
              "0  \\n[]]\">### Instruction:\\nI am providing you wi...  \n",
              "1                                              \\n[]]  \n",
              "2  \\n[]]\">1</button></div><div class=\"JobPageRow_...  \n",
              "3  \\n[]]\">Software Engineer, Data Platform Comput...  \n",
              "4  \\n[]]\">[{\"Job Title\":\"Senior Product Manager, ...  "
            ]
          },
          "execution_count": 45,
          "metadata": {},
          "output_type": "execute_result"
        }
      ],
      "source": [
        "inference_data_llama = extracted_data_llama[extracted_data_llama[\"openai_extracted\"].apply(lambda x: len(x)>2)].reset_index(drop=True)\n",
        "inference_data_llama[\"model_response\"] = inference_data_llama[\"model_output\"].apply(lambda x: x.split(\"Response:\")[-1] if x is not None else \"\")\n",
        "inference_data_llama = inference_data_llama[[\"openai_extracted\", \"model_response\"]]\n",
        "inference_data_llama.head()"
      ]
    },
    {
      "cell_type": "code",
      "execution_count": 46,
      "metadata": {
        "colab": {
          "base_uri": "https://localhost:8080/",
          "height": 206
        },
        "id": "LJwuG2YL80Lw",
        "outputId": "7dec7cff-2610-4b5d-df2a-f8ac6605e5ca"
      },
      "outputs": [
        {
          "data": {
            "text/html": [
              "<div>\n",
              "<style scoped>\n",
              "    .dataframe tbody tr th:only-of-type {\n",
              "        vertical-align: middle;\n",
              "    }\n",
              "\n",
              "    .dataframe tbody tr th {\n",
              "        vertical-align: top;\n",
              "    }\n",
              "\n",
              "    .dataframe thead th {\n",
              "        text-align: right;\n",
              "    }\n",
              "</style>\n",
              "<table border=\"1\" class=\"dataframe\">\n",
              "  <thead>\n",
              "    <tr style=\"text-align: right;\">\n",
              "      <th></th>\n",
              "      <th>openai_extracted</th>\n",
              "      <th>model_response</th>\n",
              "    </tr>\n",
              "  </thead>\n",
              "  <tbody>\n",
              "    <tr>\n",
              "      <th>0</th>\n",
              "      <td>[{\"Job Title\":\"Reference Data Analyst\",\"Job Lo...</td>\n",
              "      <td>[{\"Job Title\":\"Senior Data Scientist\",\"Job Loc...</td>\n",
              "    </tr>\n",
              "    <tr>\n",
              "      <th>1</th>\n",
              "      <td>[{\"Job Title\":\"Technician, Data Center Operati...</td>\n",
              "      <td>[{\"Job Title\":\"Senior Data Engineer, Data and ...</td>\n",
              "    </tr>\n",
              "    <tr>\n",
              "      <th>2</th>\n",
              "      <td>[{\"Job Title\":\"Analyst, EUC\",\"Job Location\":\"M...</td>\n",
              "      <td>[{\"Job Title\":\"Software Engineer III\",\"Job Loc...</td>\n",
              "    </tr>\n",
              "    <tr>\n",
              "      <th>3</th>\n",
              "      <td>[{\"Job Title\":\"Reference Data Analyst\",\"Job Lo...</td>\n",
              "      <td>[{\"Job Title\":\"Senior Data Scientist\",\"Job Loc...</td>\n",
              "    </tr>\n",
              "    <tr>\n",
              "      <th>4</th>\n",
              "      <td>[{\"Job Title\":\"Lead Business Analyst, Product ...</td>\n",
              "      <td>[{\"Job Title\":\"Senior Director, Data Science a...</td>\n",
              "    </tr>\n",
              "  </tbody>\n",
              "</table>\n",
              "</div>"
            ],
            "text/plain": [
              "                                    openai_extracted  \\\n",
              "0  [{\"Job Title\":\"Reference Data Analyst\",\"Job Lo...   \n",
              "1  [{\"Job Title\":\"Technician, Data Center Operati...   \n",
              "2  [{\"Job Title\":\"Analyst, EUC\",\"Job Location\":\"M...   \n",
              "3  [{\"Job Title\":\"Reference Data Analyst\",\"Job Lo...   \n",
              "4  [{\"Job Title\":\"Lead Business Analyst, Product ...   \n",
              "\n",
              "                                      model_response  \n",
              "0  [{\"Job Title\":\"Senior Data Scientist\",\"Job Loc...  \n",
              "1  [{\"Job Title\":\"Senior Data Engineer, Data and ...  \n",
              "2  [{\"Job Title\":\"Software Engineer III\",\"Job Loc...  \n",
              "3  [{\"Job Title\":\"Senior Data Scientist\",\"Job Loc...  \n",
              "4  [{\"Job Title\":\"Senior Director, Data Science a...  "
            ]
          },
          "execution_count": 46,
          "metadata": {},
          "output_type": "execute_result"
        }
      ],
      "source": [
        "non_empty_llama = inference_data_llama[inference_data_llama[\"model_response\"].apply(lambda x:len(x)>10 and \"I am providing\" not in x)].reset_index(drop=True)\n",
        "non_empty_llama[\"model_response\"] = non_empty_llama[\"model_response\"].apply(lambda x:x.replace('\\n[]]\">', \"\"))\n",
        "json_extracted_llama = non_empty_llama[non_empty_llama[\"model_response\"].apply(check_json_adv)].reset_index(drop=True)\n",
        "json_extracted_llama[\"model_response\"] = json_extracted_llama[\"model_response\"].apply(lambda x:return_adv_json(x))\n",
        "json_extracted_llama = json_extracted_llama[json_extracted_llama[\"model_response\"].apply(lambda x: len(x)>10)].reset_index(drop=True)\n",
        "json_extracted_llama.head()"
      ]
    },
    {
      "cell_type": "code",
      "execution_count": 49,
      "metadata": {
        "colab": {
          "base_uri": "https://localhost:8080/"
        },
        "id": "X9xeQOWx80GB",
        "outputId": "2a07db1a-62f5-4831-8caa-9f7ff4e65c48"
      },
      "outputs": [
        {
          "name": "stdout",
          "output_type": "stream",
          "text": [
            "Exhaustive Count for fine tuned Llama 3.2 1B:  7\n"
          ]
        }
      ],
      "source": [
        "exhaustive_count_llama = get_exhaustive_count(json_extracted_llama, \"model_response\", inference_data_llama, \"openai_extracted\")\n",
        "print(\"Exhaustive Count for fine tuned Llama 3.2 1B: \", exhaustive_count_llama)"
      ]
    },
    {
      "cell_type": "code",
      "execution_count": 53,
      "metadata": {
        "colab": {
          "base_uri": "https://localhost:8080/"
        },
        "id": "YU1DAe2080DX",
        "outputId": "be984793-760c-4b7b-d9a3-32decfad2e11"
      },
      "outputs": [
        {
          "name": "stdout",
          "output_type": "stream",
          "text": [
            "Count of links in fine tuned Llama 3.2 1B but not in OpenAI's 4o:  81\n",
            "Precise Count for fine tuned Llama 3.2 1B:  7\n",
            "Precise Count of links in OpenAI's 4o:  572\n",
            "Exhaustive Count of links in OpenAI's 4o:  749\n"
          ]
        }
      ],
      "source": [
        "llama_links_not_in_4o, llama_links_in_4o, links_in_4o = get_links_in_4o(json_extracted_llama, inference_data_llama, \"model_response\", \"openai_extracted\")\n",
        "print(\"Count of links in fine tuned Llama 3.2 1B but not in OpenAI's 4o: \", llama_links_not_in_4o)\n",
        "print(\"Precise Count for fine tuned Llama 3.2 1B: \", llama_links_in_4o)\n",
        "print(\"Precise Count of links in OpenAI's 4o: \", links_in_4o)\n",
        "print(\"Exhaustive Count of links in OpenAI's 4o: \", ex_links_in_4o)"
      ]
    },
    {
      "cell_type": "code",
      "execution_count": null,
      "metadata": {
        "id": "M5a3GwKi9_CD"
      },
      "outputs": [],
      "source": []
    },
    {
      "cell_type": "code",
      "execution_count": null,
      "metadata": {
        "id": "-mkNxt-49-_l"
      },
      "outputs": [],
      "source": []
    },
    {
      "cell_type": "markdown",
      "metadata": {},
      "source": [
        "## Fine Tuned ReaderLM-v2 1.5B"
      ]
    },
    {
      "cell_type": "code",
      "execution_count": 54,
      "metadata": {
        "colab": {
          "base_uri": "https://localhost:8080/",
          "height": 206
        },
        "id": "KHzNzTmpuJH4",
        "outputId": "c43324fe-7700-4021-eb10-38155f164254"
      },
      "outputs": [
        {
          "data": {
            "text/html": [
              "<div>\n",
              "<style scoped>\n",
              "    .dataframe tbody tr th:only-of-type {\n",
              "        vertical-align: middle;\n",
              "    }\n",
              "\n",
              "    .dataframe tbody tr th {\n",
              "        vertical-align: top;\n",
              "    }\n",
              "\n",
              "    .dataframe thead th {\n",
              "        text-align: right;\n",
              "    }\n",
              "</style>\n",
              "<table border=\"1\" class=\"dataframe\">\n",
              "  <thead>\n",
              "    <tr style=\"text-align: right;\">\n",
              "      <th></th>\n",
              "      <th>model_output</th>\n",
              "      <th>html</th>\n",
              "      <th>openai_extracted</th>\n",
              "    </tr>\n",
              "  </thead>\n",
              "  <tbody>\n",
              "    <tr>\n",
              "      <th>0</th>\n",
              "      <td>I am providing you with an HTML. I want you to...</td>\n",
              "      <td>ifgzpr-0 ebeCrQ\"&gt;Learn more&lt;/button&gt;&lt;/div&gt;&lt;/a&gt;...</td>\n",
              "      <td>[{\"Job Title\":\"Data Engineer\",\"Job Location\":\"...</td>\n",
              "    </tr>\n",
              "    <tr>\n",
              "      <th>1</th>\n",
              "      <td>I am providing you with an HTML. I want you to...</td>\n",
              "      <td>eey\"&gt;Fraud and Risk Analyst, Identity&lt;/div&gt;&lt;di...</td>\n",
              "      <td>[{\"Job Title\":\"Fraud and Risk Analyst, Identit...</td>\n",
              "    </tr>\n",
              "    <tr>\n",
              "      <th>2</th>\n",
              "      <td>I am providing you with an HTML. I want you to...</td>\n",
              "      <td>StyledButton-sc-ifgzpr-0 ebeCrQ\"&gt;Learn more&lt;/b...</td>\n",
              "      <td>[{\"Job Title\":\"Senior iOS Engineer\",\"Job Locat...</td>\n",
              "    </tr>\n",
              "    <tr>\n",
              "      <th>3</th>\n",
              "      <td>I am providing you with an HTML. I want you to...</td>\n",
              "      <td>PageRow__Subtitle-sc-v4dlgb-4 cfQbFR\"&gt;New York...</td>\n",
              "      <td>[{\"Job Title\":\"Software Engineer, Matching\",\"J...</td>\n",
              "    </tr>\n",
              "    <tr>\n",
              "      <th>4</th>\n",
              "      <td>I am providing you with an HTML. I want you to...</td>\n",
              "      <td>class=\"JobPageRow__LeftItem-sc-v4dlgb-1 izfJqe...</td>\n",
              "      <td>[{\"Job Title\":\"Senior Product Manager, Airport...</td>\n",
              "    </tr>\n",
              "  </tbody>\n",
              "</table>\n",
              "</div>"
            ],
            "text/plain": [
              "                                        model_output  \\\n",
              "0  I am providing you with an HTML. I want you to...   \n",
              "1  I am providing you with an HTML. I want you to...   \n",
              "2  I am providing you with an HTML. I want you to...   \n",
              "3  I am providing you with an HTML. I want you to...   \n",
              "4  I am providing you with an HTML. I want you to...   \n",
              "\n",
              "                                                html  \\\n",
              "0  ifgzpr-0 ebeCrQ\">Learn more</button></div></a>...   \n",
              "1  eey\">Fraud and Risk Analyst, Identity</div><di...   \n",
              "2  StyledButton-sc-ifgzpr-0 ebeCrQ\">Learn more</b...   \n",
              "3  PageRow__Subtitle-sc-v4dlgb-4 cfQbFR\">New York...   \n",
              "4  class=\"JobPageRow__LeftItem-sc-v4dlgb-1 izfJqe...   \n",
              "\n",
              "                                    openai_extracted  \n",
              "0  [{\"Job Title\":\"Data Engineer\",\"Job Location\":\"...  \n",
              "1  [{\"Job Title\":\"Fraud and Risk Analyst, Identit...  \n",
              "2  [{\"Job Title\":\"Senior iOS Engineer\",\"Job Locat...  \n",
              "3  [{\"Job Title\":\"Software Engineer, Matching\",\"J...  \n",
              "4  [{\"Job Title\":\"Senior Product Manager, Airport...  "
            ]
          },
          "execution_count": 54,
          "metadata": {},
          "output_type": "execute_result"
        }
      ],
      "source": [
        "extracted_data_readerlm = pd.read_parquet(\"../results/ReaderLM-v2_unseen_test_dataset_output.parquet\")\n",
        "extracted_data_readerlm.head()"
      ]
    },
    {
      "cell_type": "code",
      "execution_count": 55,
      "metadata": {
        "colab": {
          "base_uri": "https://localhost:8080/",
          "height": 206
        },
        "id": "JVO5XURuwXMr",
        "outputId": "ee0d35e2-1f74-4bfa-e509-9a21280209e3"
      },
      "outputs": [
        {
          "data": {
            "text/html": [
              "<div>\n",
              "<style scoped>\n",
              "    .dataframe tbody tr th:only-of-type {\n",
              "        vertical-align: middle;\n",
              "    }\n",
              "\n",
              "    .dataframe tbody tr th {\n",
              "        vertical-align: top;\n",
              "    }\n",
              "\n",
              "    .dataframe thead th {\n",
              "        text-align: right;\n",
              "    }\n",
              "</style>\n",
              "<table border=\"1\" class=\"dataframe\">\n",
              "  <thead>\n",
              "    <tr style=\"text-align: right;\">\n",
              "      <th></th>\n",
              "      <th>openai_extracted</th>\n",
              "      <th>model_response</th>\n",
              "    </tr>\n",
              "  </thead>\n",
              "  <tbody>\n",
              "    <tr>\n",
              "      <th>0</th>\n",
              "      <td>[{\"Job Title\":\"Data Engineer\",\"Job Location\":\"...</td>\n",
              "      <td>\\n[{\"Job Title\":\"Data Engineer\",\"Job Location\"...</td>\n",
              "    </tr>\n",
              "    <tr>\n",
              "      <th>1</th>\n",
              "      <td>[{\"Job Title\":\"Fraud and Risk Analyst, Identit...</td>\n",
              "      <td>I am providing you with an HTML. I want you to...</td>\n",
              "    </tr>\n",
              "    <tr>\n",
              "      <th>2</th>\n",
              "      <td>[{\"Job Title\":\"Senior iOS Engineer\",\"Job Locat...</td>\n",
              "      <td>I am providing you with an HTML. I want you to...</td>\n",
              "    </tr>\n",
              "    <tr>\n",
              "      <th>3</th>\n",
              "      <td>[{\"Job Title\":\"Software Engineer, Matching\",\"J...</td>\n",
              "      <td>\\n[{\"Job Title\":\"Software Engineer, Ads Automa...</td>\n",
              "    </tr>\n",
              "    <tr>\n",
              "      <th>4</th>\n",
              "      <td>[{\"Job Title\":\"Senior Product Manager, Airport...</td>\n",
              "      <td>\\n[]</td>\n",
              "    </tr>\n",
              "  </tbody>\n",
              "</table>\n",
              "</div>"
            ],
            "text/plain": [
              "                                    openai_extracted  \\\n",
              "0  [{\"Job Title\":\"Data Engineer\",\"Job Location\":\"...   \n",
              "1  [{\"Job Title\":\"Fraud and Risk Analyst, Identit...   \n",
              "2  [{\"Job Title\":\"Senior iOS Engineer\",\"Job Locat...   \n",
              "3  [{\"Job Title\":\"Software Engineer, Matching\",\"J...   \n",
              "4  [{\"Job Title\":\"Senior Product Manager, Airport...   \n",
              "\n",
              "                                      model_response  \n",
              "0  \\n[{\"Job Title\":\"Data Engineer\",\"Job Location\"...  \n",
              "1  I am providing you with an HTML. I want you to...  \n",
              "2  I am providing you with an HTML. I want you to...  \n",
              "3  \\n[{\"Job Title\":\"Software Engineer, Ads Automa...  \n",
              "4                                               \\n[]  "
            ]
          },
          "execution_count": 55,
          "metadata": {},
          "output_type": "execute_result"
        }
      ],
      "source": [
        "inference_data_readerlm = extracted_data_readerlm[extracted_data_readerlm[\"openai_extracted\"].apply(lambda x: len(x)>2)].reset_index(drop=True)\n",
        "inference_data_readerlm[\"model_response\"] = inference_data_readerlm[\"model_output\"].apply(lambda x: x.split(\"Response:\")[-1])\n",
        "inference_data_readerlm = inference_data_readerlm[[\"openai_extracted\", \"model_response\"]]\n",
        "inference_data_readerlm.head()"
      ]
    },
    {
      "cell_type": "code",
      "execution_count": 56,
      "metadata": {
        "colab": {
          "base_uri": "https://localhost:8080/",
          "height": 206
        },
        "id": "E1od6rlAyFo3",
        "outputId": "877522b5-0dd3-4210-8e5d-2d5122030217"
      },
      "outputs": [
        {
          "data": {
            "text/html": [
              "<div>\n",
              "<style scoped>\n",
              "    .dataframe tbody tr th:only-of-type {\n",
              "        vertical-align: middle;\n",
              "    }\n",
              "\n",
              "    .dataframe tbody tr th {\n",
              "        vertical-align: top;\n",
              "    }\n",
              "\n",
              "    .dataframe thead th {\n",
              "        text-align: right;\n",
              "    }\n",
              "</style>\n",
              "<table border=\"1\" class=\"dataframe\">\n",
              "  <thead>\n",
              "    <tr style=\"text-align: right;\">\n",
              "      <th></th>\n",
              "      <th>openai_extracted</th>\n",
              "      <th>model_response</th>\n",
              "    </tr>\n",
              "  </thead>\n",
              "  <tbody>\n",
              "    <tr>\n",
              "      <th>0</th>\n",
              "      <td>[{\"Job Title\":\"Data Engineer\",\"Job Location\":\"...</td>\n",
              "      <td>\\n[{\"Job Title\":\"Data Engineer\",\"Job Location\"...</td>\n",
              "    </tr>\n",
              "    <tr>\n",
              "      <th>1</th>\n",
              "      <td>[{\"Job Title\":\"Software Engineer, Matching\",\"J...</td>\n",
              "      <td>\\n[{\"Job Title\":\"Software Engineer, Ads Automa...</td>\n",
              "    </tr>\n",
              "    <tr>\n",
              "      <th>2</th>\n",
              "      <td>[{\"Job Title\":\"Data Scientist, Decisions - AdT...</td>\n",
              "      <td>\\n[{\"Job Title\":\"Data Scientist, Rider Segment...</td>\n",
              "    </tr>\n",
              "    <tr>\n",
              "      <th>3</th>\n",
              "      <td>[{\"Job Title\":\"Senior Specialist, Regulatory C...</td>\n",
              "      <td>\\n[{\"Job Title\":\"Data Science Intern, Decision...</td>\n",
              "    </tr>\n",
              "    <tr>\n",
              "      <th>4</th>\n",
              "      <td>[{\"Job Title\":\"Data Science, Decisions - Airpo...</td>\n",
              "      <td>\\n[{\"Job Title\":\"Data Scientist, Algorithms, D...</td>\n",
              "    </tr>\n",
              "  </tbody>\n",
              "</table>\n",
              "</div>"
            ],
            "text/plain": [
              "                                    openai_extracted  \\\n",
              "0  [{\"Job Title\":\"Data Engineer\",\"Job Location\":\"...   \n",
              "1  [{\"Job Title\":\"Software Engineer, Matching\",\"J...   \n",
              "2  [{\"Job Title\":\"Data Scientist, Decisions - AdT...   \n",
              "3  [{\"Job Title\":\"Senior Specialist, Regulatory C...   \n",
              "4  [{\"Job Title\":\"Data Science, Decisions - Airpo...   \n",
              "\n",
              "                                      model_response  \n",
              "0  \\n[{\"Job Title\":\"Data Engineer\",\"Job Location\"...  \n",
              "1  \\n[{\"Job Title\":\"Software Engineer, Ads Automa...  \n",
              "2  \\n[{\"Job Title\":\"Data Scientist, Rider Segment...  \n",
              "3  \\n[{\"Job Title\":\"Data Science Intern, Decision...  \n",
              "4  \\n[{\"Job Title\":\"Data Scientist, Algorithms, D...  "
            ]
          },
          "execution_count": 56,
          "metadata": {},
          "output_type": "execute_result"
        }
      ],
      "source": [
        "non_empty_readerlm = inference_data_readerlm[inference_data_readerlm[\"model_response\"].apply(lambda x:len(x)>10 and \"I am providing\" not in x)].reset_index(drop=True)\n",
        "json_extracted_readerlm = non_empty_readerlm[non_empty_readerlm[\"model_response\"].apply(check_json)].reset_index(drop=True)\n",
        "json_extracted_readerlm.head()"
      ]
    },
    {
      "cell_type": "code",
      "execution_count": 57,
      "metadata": {
        "colab": {
          "base_uri": "https://localhost:8080/"
        },
        "id": "h2bgUr1x_zjS",
        "outputId": "a7b453e2-5e0e-4e2e-b590-fcc55664c584"
      },
      "outputs": [
        {
          "name": "stdout",
          "output_type": "stream",
          "text": [
            "Exhaustive Count for fine tuned ReaderLM 3.2 1B:  155\n"
          ]
        }
      ],
      "source": [
        "exhaustive_count_readerlm = get_exhaustive_count(json_extracted_readerlm, \"model_response\", inference_data_readerlm, \"openai_extracted\")\n",
        "print(\"Exhaustive Count for fine tuned ReaderLM 3.2 1B: \", exhaustive_count_readerlm)"
      ]
    },
    {
      "cell_type": "code",
      "execution_count": 59,
      "metadata": {
        "colab": {
          "base_uri": "https://localhost:8080/"
        },
        "id": "sUmCrOUnziSq",
        "outputId": "c8e16094-60cb-47f2-b6ce-a5c4d5923842"
      },
      "outputs": [
        {
          "name": "stdout",
          "output_type": "stream",
          "text": [
            "Count of links in fine tuned ReaderLM-v2 1.5B but not in OpenAI's 4o:  258\n",
            "Precise Count for fine tuned readerlm 3.2 1B::  106\n",
            "Precise Count of links in OpenAI's 4o:  572\n",
            "Exhaustive Count of links in OpenAI's 4o:  749\n"
          ]
        }
      ],
      "source": [
        "readerlm_links_not_in_4o, readerlm_links_in_4o, links_in_4o = get_links_in_4o(json_extracted_readerlm, inference_data_readerlm, \"model_response\", \"openai_extracted\")\n",
        "print(\"Count of links in fine tuned ReaderLM-v2 1.5B but not in OpenAI's 4o: \", readerlm_links_not_in_4o)\n",
        "print(\"Precise Count for fine tuned readerlm 3.2 1B:: \", readerlm_links_in_4o)\n",
        "print(\"Precise Count of links in OpenAI's 4o: \", links_in_4o)\n",
        "print(\"Exhaustive Count of links in OpenAI's 4o: \", ex_links_in_4o)"
      ]
    },
    {
      "cell_type": "code",
      "execution_count": null,
      "metadata": {
        "id": "kgsN2ILT_TnS"
      },
      "outputs": [],
      "source": []
    },
    {
      "cell_type": "code",
      "execution_count": null,
      "metadata": {},
      "outputs": [],
      "source": []
    }
  ],
  "metadata": {
    "colab": {
      "machine_shape": "hm",
      "provenance": []
    },
    "kernelspec": {
      "display_name": "Python 3",
      "name": "python3"
    },
    "language_info": {
      "codemirror_mode": {
        "name": "ipython",
        "version": 3
      },
      "file_extension": ".py",
      "mimetype": "text/x-python",
      "name": "python",
      "nbconvert_exporter": "python",
      "pygments_lexer": "ipython3",
      "version": "3.10.12"
    }
  },
  "nbformat": 4,
  "nbformat_minor": 0
}
